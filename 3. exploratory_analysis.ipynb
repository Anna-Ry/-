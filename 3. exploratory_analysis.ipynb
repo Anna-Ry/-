{
 "cells": [
  {
   "cell_type": "markdown",
   "metadata": {},
   "source": [
    "# Разведочный анализ"
   ]
  },
  {
   "cell_type": "markdown",
   "metadata": {},
   "source": [
    "**`Цель`**: Изучить распределение целевой переменной, взаимосвязи между переменными"
   ]
  },
  {
   "cell_type": "markdown",
   "metadata": {},
   "source": [
    "## Оглавление\n",
    "\n",
    "1. [Изучение целевой переменной](#1)<br>\n",
    "2. [Изучение взаимосвязей между зависимой переменной и независимыми](#2)<br>\n",
    "    2.1. [Зависимость стоимости квартиры от ее площади](#2.1)<br>\n",
    "3. [Исследование стоимости квадратного метра квартиры](#3)<br>\n",
    "4. [Взаимосвязи между стоимостью квадратного метра и остальными переменными](#4)<br>\n",
    "    4.1. [Зависимость стоимости квадратного метра от количества комнат](#4.1)<br>\n",
    "    4.2. [Зависимость стоимости квдратного метра от района](#4.2)<br>\n",
    "    4.3. [Зависимость стоимости квадратного метра от этажа](#4.3)<br>\n",
    "5. [Вывод](#5)<br>"
   ]
  },
  {
   "cell_type": "code",
   "execution_count": 1,
   "metadata": {},
   "outputs": [],
   "source": [
    "# Библиотеки\n",
    "import pandas as pd\n",
    "import numpy as np\n",
    "import matplotlib.pyplot as plt\n",
    "import seaborn as sns\n",
    "sns.set()\n",
    "plt.style.use('seaborn-whitegrid')\n",
    "import pingouin as pg\n",
    "from scipy.stats import norm\n",
    "from scipy.stats import spearmanr\n",
    "plt.rcParams[\"font.family\"] = \"Times New Roman\"\n",
    "import statsmodels.api as sm\n",
    "import matplotlib.ticker as ticker\n",
    "import matplotlib.ticker as tick\n",
    "import warnings\n",
    "warnings.filterwarnings(\"ignore\")"
   ]
  },
  {
   "cell_type": "code",
   "execution_count": 2,
   "metadata": {
    "scrolled": false
   },
   "outputs": [],
   "source": [
    "df = pd.read_excel('etagiFullDataSet.xlsx', index_col=0)"
   ]
  },
  {
   "cell_type": "markdown",
   "metadata": {},
   "source": [
    "## Изучение целевой переменной <a class=\"anchor\" id=\"1\"></a>"
   ]
  },
  {
   "cell_type": "code",
   "execution_count": 22,
   "metadata": {},
   "outputs": [
    {
     "data": {
      "image/png": "[encoded data removed]",
      "text/plain": [
       "<Figure size 432x432 with 1 Axes>"
      ]
     },
     "metadata": {},
     "output_type": "display_data"
    }
   ],
   "source": [
    "fig = plt.figure(figsize=(6,6))\n",
    "ax = fig.add_subplot(111)\n",
    "sns.histplot(df['price'], ax=ax, color='#68A7AD',bins=10)\n",
    "plt.xlabel('Стоимость квартиры, млн', fontsize=15)\n",
    "plt.ylabel('  ')\n",
    "plt.title('Распределение переменной Price\\n', fontsize=18)\n",
    "ticks_x = tick.FuncFormatter(lambda x, pos: '{0:g}'.format(x/1_000_000))\n",
    "ax.xaxis.set_major_formatter(ticks_x)"
   ]
  },
  {
   "cell_type": "code",
   "execution_count": 5,
   "metadata": {},
   "outputs": [
    {
     "data": {
      "text/html": [
       "<div>\n",
       "<style scoped>\n",
       "    .dataframe tbody tr th:only-of-type {\n",
       "        vertical-align: middle;\n",
       "    }\n",
       "\n",
       "    .dataframe tbody tr th {\n",
       "        vertical-align: top;\n",
       "    }\n",
       "\n",
       "    .dataframe thead th {\n",
       "        text-align: right;\n",
       "    }\n",
       "</style>\n",
       "<table border=\"1\" class=\"dataframe\">\n",
       "  <thead>\n",
       "    <tr style=\"text-align: right;\">\n",
       "      <th></th>\n",
       "      <th>index</th>\n",
       "      <th>price</th>\n",
       "    </tr>\n",
       "  </thead>\n",
       "  <tbody>\n",
       "    <tr>\n",
       "      <th>0</th>\n",
       "      <td>count</td>\n",
       "      <td>1331.0</td>\n",
       "    </tr>\n",
       "    <tr>\n",
       "      <th>1</th>\n",
       "      <td>mean</td>\n",
       "      <td>8057811.0</td>\n",
       "    </tr>\n",
       "    <tr>\n",
       "      <th>2</th>\n",
       "      <td>std</td>\n",
       "      <td>3518306.0</td>\n",
       "    </tr>\n",
       "    <tr>\n",
       "      <th>3</th>\n",
       "      <td>min</td>\n",
       "      <td>2100000.0</td>\n",
       "    </tr>\n",
       "    <tr>\n",
       "      <th>4</th>\n",
       "      <td>25%</td>\n",
       "      <td>5600000.0</td>\n",
       "    </tr>\n",
       "    <tr>\n",
       "      <th>5</th>\n",
       "      <td>50%</td>\n",
       "      <td>7200000.0</td>\n",
       "    </tr>\n",
       "    <tr>\n",
       "      <th>6</th>\n",
       "      <td>75%</td>\n",
       "      <td>9800000.0</td>\n",
       "    </tr>\n",
       "    <tr>\n",
       "      <th>7</th>\n",
       "      <td>max</td>\n",
       "      <td>19990000.0</td>\n",
       "    </tr>\n",
       "  </tbody>\n",
       "</table>\n",
       "</div>"
      ],
      "text/plain": [
       "   index       price\n",
       "0  count      1331.0\n",
       "1   mean   8057811.0\n",
       "2    std   3518306.0\n",
       "3    min   2100000.0\n",
       "4    25%   5600000.0\n",
       "5    50%   7200000.0\n",
       "6    75%   9800000.0\n",
       "7    max  19990000.0"
      ]
     },
     "execution_count": 5,
     "metadata": {},
     "output_type": "execute_result"
    }
   ],
   "source": [
    "df['price'].describe().reset_index().round()"
   ]
  },
  {
   "cell_type": "markdown",
   "metadata": {},
   "source": [
    "Исходя из таблицы можно сделать вывод, что в среднем квартира стоит 8,06 млн, чаще всего встречается цена 7 млн, а 75 % всех квартир стоит 9,8 млн или меньше. Размах стоимости квартир 17,89 млн (от 2,1 млн до 19,99)."
   ]
  },
  {
   "cell_type": "code",
   "execution_count": 10,
   "metadata": {},
   "outputs": [
    {
     "data": {
      "text/plain": [
       "0    7000000\n",
       "dtype: int64"
      ]
     },
     "execution_count": 10,
     "metadata": {},
     "output_type": "execute_result"
    }
   ],
   "source": [
    "df['price'].mode()"
   ]
  },
  {
   "cell_type": "code",
   "execution_count": 11,
   "metadata": {},
   "outputs": [
    {
     "data": {
      "image/png": "[encoded data removed]",
      "text/plain": [
       "<Figure size 432x432 with 1 Axes>"
      ]
     },
     "metadata": {},
     "output_type": "display_data"
    }
   ],
   "source": [
    "plt.rcParams[\"font.family\"] = \"Times New Roman\"\n",
    "fig = plt.figure(figsize=(6,6))\n",
    "ax = fig.add_subplot(111)\n",
    "sns.boxplot(y = df['price'], color='#68A7AD')\n",
    "plt.ylabel('Стоимость квартиры, млн\\n', fontsize=15)\n",
    "ticks_x = tick.FuncFormatter(lambda x, pos: '{0:g}'.format(x/1_000_000))\n",
    "ax.yaxis.set_major_formatter(ticks_x)"
   ]
  },
  {
   "cell_type": "code",
   "execution_count": 8,
   "metadata": {},
   "outputs": [
    {
     "data": {
      "text/html": [
       "<div>\n",
       "<style scoped>\n",
       "    .dataframe tbody tr th:only-of-type {\n",
       "        vertical-align: middle;\n",
       "    }\n",
       "\n",
       "    .dataframe tbody tr th {\n",
       "        vertical-align: top;\n",
       "    }\n",
       "\n",
       "    .dataframe thead th {\n",
       "        text-align: right;\n",
       "    }\n",
       "</style>\n",
       "<table border=\"1\" class=\"dataframe\">\n",
       "  <thead>\n",
       "    <tr style=\"text-align: right;\">\n",
       "      <th></th>\n",
       "      <th>W</th>\n",
       "      <th>pval</th>\n",
       "      <th>normal</th>\n",
       "    </tr>\n",
       "  </thead>\n",
       "  <tbody>\n",
       "    <tr>\n",
       "      <th>price</th>\n",
       "      <td>0.933251</td>\n",
       "      <td>6.166646e-24</td>\n",
       "      <td>False</td>\n",
       "    </tr>\n",
       "  </tbody>\n",
       "</table>\n",
       "</div>"
      ],
      "text/plain": [
       "              W          pval  normal\n",
       "price  0.933251  6.166646e-24   False"
      ]
     },
     "execution_count": 8,
     "metadata": {},
     "output_type": "execute_result"
    }
   ],
   "source": [
    "pg.normality(data=df['price'])"
   ]
  },
  {
   "cell_type": "markdown",
   "metadata": {},
   "source": [
    "Тест Шапиро-Уилка позволяет отклонить нулевую гипотезу, говорящую, что выборка из нормального распределения (на уровне значимости 5%). "
   ]
  },
  {
   "cell_type": "code",
   "execution_count": 9,
   "metadata": {},
   "outputs": [
    {
     "data": {
      "text/plain": [
       "Text(0.5, 1.0, '')"
      ]
     },
     "execution_count": 9,
     "metadata": {},
     "output_type": "execute_result"
    },
    {
     "data": {
      "image/png": "[encoded data removed]",
      "text/plain": [
       "<Figure size 360x288 with 1 Axes>"
      ]
     },
     "metadata": {},
     "output_type": "display_data"
    }
   ],
   "source": [
    "pg.qqplot(df['price'])\n",
    "plt.xlabel('')\n",
    "plt.ylabel('')\n",
    "plt.title('')"
   ]
  },
  {
   "cell_type": "markdown",
   "metadata": {},
   "source": [
    "На рисунках показано распределение стоимости объектов недвижимости. Из них видно, что целевая переменная не является нормально распределенной."
   ]
  },
  {
   "cell_type": "markdown",
   "metadata": {},
   "source": [
    "## Изучение взаимосвязей между зависимой переменной и независимыми <a class=\"anchor\" id=\"2\"></a>\n"
   ]
  },
  {
   "cell_type": "code",
   "execution_count": 16,
   "metadata": {},
   "outputs": [],
   "source": [
    "cols = ['rooms', 'area', 'floor', 'lon', 'lat',\n",
    "       'floors_in_house', 'building_year', 'wall_id', 'euro', 'mortgage',\n",
    "       'ceiling_height', 'balcon_glass', 'lift', 'wate_heating_system',\n",
    "       'furniture', 'internet', 'telephon', 'tv', 'regionLabel', 'keepLabel',\n",
    "       'balconLabel', 'bathLabel', 'districttr_label', 'dist_centr', 'region',\n",
    "       'districttr']"
   ]
  },
  {
   "cell_type": "code",
   "execution_count": 17,
   "metadata": {},
   "outputs": [],
   "source": [
    "corr_spear = pd.DataFrame(columns=['Название признака', 'Корреляция', 'p-value'])\n",
    "for col in cols:\n",
    "    new_row = {'Название признака':col, 'Корреляция':spearmanr(df[col],df['price'])[0], 'p-value':spearmanr(df[col],df['price'])[1]}\n",
    "    corr_spear = corr_spear.append(new_row, ignore_index=True)"
   ]
  },
  {
   "cell_type": "code",
   "execution_count": 18,
   "metadata": {},
   "outputs": [
    {
     "data": {
      "text/html": [
       "<div>\n",
       "<style scoped>\n",
       "    .dataframe tbody tr th:only-of-type {\n",
       "        vertical-align: middle;\n",
       "    }\n",
       "\n",
       "    .dataframe tbody tr th {\n",
       "        vertical-align: top;\n",
       "    }\n",
       "\n",
       "    .dataframe thead th {\n",
       "        text-align: right;\n",
       "    }\n",
       "</style>\n",
       "<table border=\"1\" class=\"dataframe\">\n",
       "  <thead>\n",
       "    <tr style=\"text-align: right;\">\n",
       "      <th></th>\n",
       "      <th>Название признака</th>\n",
       "      <th>Корреляция</th>\n",
       "      <th>p-value</th>\n",
       "    </tr>\n",
       "  </thead>\n",
       "  <tbody>\n",
       "    <tr>\n",
       "      <th>0</th>\n",
       "      <td>rooms</td>\n",
       "      <td>0.646072</td>\n",
       "      <td>4.108715e-158</td>\n",
       "    </tr>\n",
       "    <tr>\n",
       "      <th>1</th>\n",
       "      <td>area</td>\n",
       "      <td>0.816134</td>\n",
       "      <td>7.814538e-319</td>\n",
       "    </tr>\n",
       "    <tr>\n",
       "      <th>2</th>\n",
       "      <td>floor</td>\n",
       "      <td>0.165354</td>\n",
       "      <td>1.289230e-09</td>\n",
       "    </tr>\n",
       "    <tr>\n",
       "      <th>3</th>\n",
       "      <td>lon</td>\n",
       "      <td>-0.175877</td>\n",
       "      <td>1.040741e-10</td>\n",
       "    </tr>\n",
       "    <tr>\n",
       "      <th>4</th>\n",
       "      <td>lat</td>\n",
       "      <td>0.054522</td>\n",
       "      <td>4.673194e-02</td>\n",
       "    </tr>\n",
       "    <tr>\n",
       "      <th>5</th>\n",
       "      <td>floors_in_house</td>\n",
       "      <td>0.192592</td>\n",
       "      <td>1.379022e-12</td>\n",
       "    </tr>\n",
       "    <tr>\n",
       "      <th>6</th>\n",
       "      <td>building_year</td>\n",
       "      <td>0.187497</td>\n",
       "      <td>5.377499e-12</td>\n",
       "    </tr>\n",
       "    <tr>\n",
       "      <th>7</th>\n",
       "      <td>wall_id</td>\n",
       "      <td>0.030974</td>\n",
       "      <td>2.587957e-01</td>\n",
       "    </tr>\n",
       "    <tr>\n",
       "      <th>8</th>\n",
       "      <td>euro</td>\n",
       "      <td>0.208652</td>\n",
       "      <td>1.473156e-14</td>\n",
       "    </tr>\n",
       "    <tr>\n",
       "      <th>9</th>\n",
       "      <td>mortgage</td>\n",
       "      <td>0.044365</td>\n",
       "      <td>1.056977e-01</td>\n",
       "    </tr>\n",
       "    <tr>\n",
       "      <th>10</th>\n",
       "      <td>ceiling_height</td>\n",
       "      <td>0.039201</td>\n",
       "      <td>1.528999e-01</td>\n",
       "    </tr>\n",
       "    <tr>\n",
       "      <th>11</th>\n",
       "      <td>balcon_glass</td>\n",
       "      <td>0.249190</td>\n",
       "      <td>2.742244e-20</td>\n",
       "    </tr>\n",
       "    <tr>\n",
       "      <th>12</th>\n",
       "      <td>lift</td>\n",
       "      <td>0.169174</td>\n",
       "      <td>5.265324e-10</td>\n",
       "    </tr>\n",
       "    <tr>\n",
       "      <th>13</th>\n",
       "      <td>wate_heating_system</td>\n",
       "      <td>0.164011</td>\n",
       "      <td>1.757359e-09</td>\n",
       "    </tr>\n",
       "    <tr>\n",
       "      <th>14</th>\n",
       "      <td>furniture</td>\n",
       "      <td>0.044044</td>\n",
       "      <td>1.082490e-01</td>\n",
       "    </tr>\n",
       "    <tr>\n",
       "      <th>15</th>\n",
       "      <td>internet</td>\n",
       "      <td>0.041330</td>\n",
       "      <td>1.317928e-01</td>\n",
       "    </tr>\n",
       "    <tr>\n",
       "      <th>16</th>\n",
       "      <td>telephon</td>\n",
       "      <td>0.039066</td>\n",
       "      <td>1.543158e-01</td>\n",
       "    </tr>\n",
       "    <tr>\n",
       "      <th>17</th>\n",
       "      <td>tv</td>\n",
       "      <td>0.004539</td>\n",
       "      <td>8.685835e-01</td>\n",
       "    </tr>\n",
       "    <tr>\n",
       "      <th>18</th>\n",
       "      <td>regionLabel</td>\n",
       "      <td>-0.172769</td>\n",
       "      <td>2.224812e-10</td>\n",
       "    </tr>\n",
       "    <tr>\n",
       "      <th>19</th>\n",
       "      <td>keepLabel</td>\n",
       "      <td>0.242891</td>\n",
       "      <td>2.518831e-19</td>\n",
       "    </tr>\n",
       "    <tr>\n",
       "      <th>20</th>\n",
       "      <td>balconLabel</td>\n",
       "      <td>0.323895</td>\n",
       "      <td>6.965759e-34</td>\n",
       "    </tr>\n",
       "    <tr>\n",
       "      <th>21</th>\n",
       "      <td>bathLabel</td>\n",
       "      <td>0.049904</td>\n",
       "      <td>6.875057e-02</td>\n",
       "    </tr>\n",
       "    <tr>\n",
       "      <th>22</th>\n",
       "      <td>districttr_label</td>\n",
       "      <td>0.037259</td>\n",
       "      <td>1.743042e-01</td>\n",
       "    </tr>\n",
       "    <tr>\n",
       "      <th>23</th>\n",
       "      <td>dist_centr</td>\n",
       "      <td>-0.155629</td>\n",
       "      <td>1.147994e-08</td>\n",
       "    </tr>\n",
       "    <tr>\n",
       "      <th>24</th>\n",
       "      <td>region</td>\n",
       "      <td>-0.015031</td>\n",
       "      <td>5.837585e-01</td>\n",
       "    </tr>\n",
       "    <tr>\n",
       "      <th>25</th>\n",
       "      <td>districttr</td>\n",
       "      <td>0.075787</td>\n",
       "      <td>5.669254e-03</td>\n",
       "    </tr>\n",
       "  </tbody>\n",
       "</table>\n",
       "</div>"
      ],
      "text/plain": [
       "      Название признака  Корреляция        p-value\n",
       "0                 rooms    0.646072  4.108715e-158\n",
       "1                  area    0.816134  7.814538e-319\n",
       "2                 floor    0.165354   1.289230e-09\n",
       "3                   lon   -0.175877   1.040741e-10\n",
       "4                   lat    0.054522   4.673194e-02\n",
       "5       floors_in_house    0.192592   1.379022e-12\n",
       "6         building_year    0.187497   5.377499e-12\n",
       "7               wall_id    0.030974   2.587957e-01\n",
       "8                  euro    0.208652   1.473156e-14\n",
       "9              mortgage    0.044365   1.056977e-01\n",
       "10       ceiling_height    0.039201   1.528999e-01\n",
       "11         balcon_glass    0.249190   2.742244e-20\n",
       "12                 lift    0.169174   5.265324e-10\n",
       "13  wate_heating_system    0.164011   1.757359e-09\n",
       "14            furniture    0.044044   1.082490e-01\n",
       "15             internet    0.041330   1.317928e-01\n",
       "16             telephon    0.039066   1.543158e-01\n",
       "17                   tv    0.004539   8.685835e-01\n",
       "18          regionLabel   -0.172769   2.224812e-10\n",
       "19            keepLabel    0.242891   2.518831e-19\n",
       "20          balconLabel    0.323895   6.965759e-34\n",
       "21            bathLabel    0.049904   6.875057e-02\n",
       "22     districttr_label    0.037259   1.743042e-01\n",
       "23           dist_centr   -0.155629   1.147994e-08\n",
       "24               region   -0.015031   5.837585e-01\n",
       "25           districttr    0.075787   5.669254e-03"
      ]
     },
     "execution_count": 18,
     "metadata": {},
     "output_type": "execute_result"
    }
   ],
   "source": [
    "corr_spear"
   ]
  },
  {
   "cell_type": "markdown",
   "metadata": {},
   "source": [
    "Из таблицы можно сделать вывод, что корреляция целевой переменной – `price` заметная и высокая (corr > 0.5) с такими независимыми переменными как  `rooms` – количество комнат в квартире (corr = 0.669), `area` – площадь квартиры (corr = 0.816). Так как во всех  случаях p-value < 0.05 (при уровне доверия 5%), то можно считать корреляционную связь статистически значимой."
   ]
  },
  {
   "cell_type": "markdown",
   "metadata": {},
   "source": [
    "### Зависимость стоимости квартиры от ее площади <a class=\"anchor\" id=\"2.1\"></a>"
   ]
  },
  {
   "cell_type": "code",
   "execution_count": 19,
   "metadata": {},
   "outputs": [
    {
     "data": {
      "image/png": "[encoded data removed]",
      "text/plain": [
       "<Figure size 432x432 with 1 Axes>"
      ]
     },
     "metadata": {},
     "output_type": "display_data"
    }
   ],
   "source": [
    "fig = plt.figure(figsize=(6,6))\n",
    "ax = fig.add_subplot(111)\n",
    "sns.regplot(data=df,x='area',y='price', ax=ax, color='#68A7AD')\n",
    "plt.title('')\n",
    "plt.xlabel('\\nПлощадь, м²', fontsize=15)\n",
    "plt.ylabel('Стоимость квартиры, млн\\n', fontsize=15)\n",
    "ticks_y = tick.FuncFormatter(lambda x, pos: '{0:g}'.format(x/1_000_000))\n",
    "ax.yaxis.set_major_formatter(ticks_x)\n",
    "plt.show()"
   ]
  },
  {
   "cell_type": "markdown",
   "metadata": {},
   "source": [
    "Из рисунка видно, что чем больше площадь квартиры, тем выше стоимость. \n",
    "\n",
    "Для более информативных выводов будем использовать цену за квадратный метр при исследовании взаимосвязей между зависимой и независимыми переменными."
   ]
  },
  {
   "cell_type": "markdown",
   "metadata": {},
   "source": [
    "## Исследование стоимости квадратного метра квартиры <a class=\"anchor\" id=\"3\"></a>"
   ]
  },
  {
   "cell_type": "code",
   "execution_count": 21,
   "metadata": {},
   "outputs": [],
   "source": [
    "df['price_sq'] = df['price'] / df['area']"
   ]
  },
  {
   "cell_type": "code",
   "execution_count": 30,
   "metadata": {},
   "outputs": [
    {
     "data": {
      "image/png": "[encoded data removed]",
      "text/plain": [
       "<Figure size 432x432 with 1 Axes>"
      ]
     },
     "metadata": {},
     "output_type": "display_data"
    }
   ],
   "source": [
    "fig = plt.figure(figsize=(6,6))\n",
    "ax = fig.add_subplot(111)\n",
    "sns.histplot(df['price_sq'], ax=ax, color='#68A7AD',bins=15)\n",
    "plt.xlabel('Стоимость квартиры, млн', fontsize=15)\n",
    "plt.ylabel('  ')\n",
    "plt.title('Распределение переменной Price_sq\\n', fontsize=18)\n",
    "ticks_x = tick.FuncFormatter(lambda x, pos: '{0:g}'.format(x/1_000))\n",
    "ax.xaxis.set_major_formatter(ticks_x)"
   ]
  },
  {
   "cell_type": "code",
   "execution_count": 26,
   "metadata": {},
   "outputs": [
    {
     "data": {
      "text/html": [
       "<div>\n",
       "<style scoped>\n",
       "    .dataframe tbody tr th:only-of-type {\n",
       "        vertical-align: middle;\n",
       "    }\n",
       "\n",
       "    .dataframe tbody tr th {\n",
       "        vertical-align: top;\n",
       "    }\n",
       "\n",
       "    .dataframe thead th {\n",
       "        text-align: right;\n",
       "    }\n",
       "</style>\n",
       "<table border=\"1\" class=\"dataframe\">\n",
       "  <thead>\n",
       "    <tr style=\"text-align: right;\">\n",
       "      <th></th>\n",
       "      <th>index</th>\n",
       "      <th>price_sq</th>\n",
       "    </tr>\n",
       "  </thead>\n",
       "  <tbody>\n",
       "    <tr>\n",
       "      <th>0</th>\n",
       "      <td>count</td>\n",
       "      <td>1331.0</td>\n",
       "    </tr>\n",
       "    <tr>\n",
       "      <th>1</th>\n",
       "      <td>mean</td>\n",
       "      <td>164744.0</td>\n",
       "    </tr>\n",
       "    <tr>\n",
       "      <th>2</th>\n",
       "      <td>std</td>\n",
       "      <td>45056.0</td>\n",
       "    </tr>\n",
       "    <tr>\n",
       "      <th>3</th>\n",
       "      <td>min</td>\n",
       "      <td>32777.0</td>\n",
       "    </tr>\n",
       "    <tr>\n",
       "      <th>4</th>\n",
       "      <td>25%</td>\n",
       "      <td>134996.0</td>\n",
       "    </tr>\n",
       "    <tr>\n",
       "      <th>5</th>\n",
       "      <td>50%</td>\n",
       "      <td>157783.0</td>\n",
       "    </tr>\n",
       "    <tr>\n",
       "      <th>6</th>\n",
       "      <td>75%</td>\n",
       "      <td>182909.0</td>\n",
       "    </tr>\n",
       "    <tr>\n",
       "      <th>7</th>\n",
       "      <td>max</td>\n",
       "      <td>521127.0</td>\n",
       "    </tr>\n",
       "  </tbody>\n",
       "</table>\n",
       "</div>"
      ],
      "text/plain": [
       "   index  price_sq\n",
       "0  count    1331.0\n",
       "1   mean  164744.0\n",
       "2    std   45056.0\n",
       "3    min   32777.0\n",
       "4    25%  134996.0\n",
       "5    50%  157783.0\n",
       "6    75%  182909.0\n",
       "7    max  521127.0"
      ]
     },
     "execution_count": 26,
     "metadata": {},
     "output_type": "execute_result"
    }
   ],
   "source": [
    "df['price_sq'].describe().reset_index().round()"
   ]
  },
  {
   "cell_type": "code",
   "execution_count": 27,
   "metadata": {},
   "outputs": [
    {
     "data": {
      "text/plain": [
       "0    166666.666667\n",
       "dtype: float64"
      ]
     },
     "execution_count": 27,
     "metadata": {},
     "output_type": "execute_result"
    }
   ],
   "source": [
    "df['price_sq'].mode()"
   ]
  },
  {
   "cell_type": "markdown",
   "metadata": {},
   "source": [
    "Средняя стоимость квадратного метра равна 164 674, распределение скошено влево. Цена разнится от 32 тысяч до 520 тысяч."
   ]
  },
  {
   "cell_type": "markdown",
   "metadata": {},
   "source": [
    "## Взаимосвязи между стоимостью квадратного метра и остальными переменными <a class=\"anchor\" id=\"4\"></a>"
   ]
  },
  {
   "cell_type": "code",
   "execution_count": 31,
   "metadata": {},
   "outputs": [],
   "source": [
    "cols = ['rooms', 'area', 'floor', 'lon', 'lat',\n",
    "       'floors_in_house', 'building_year', 'wall_id', 'euro', 'mortgage',\n",
    "       'ceiling_height', 'balcon_glass', 'lift', 'wate_heating_system',\n",
    "       'furniture', 'internet', 'telephon', 'tv', 'regionLabel', 'keepLabel',\n",
    "       'balconLabel', 'bathLabel', 'districttr_label', 'dist_centr']"
   ]
  },
  {
   "cell_type": "code",
   "execution_count": 34,
   "metadata": {},
   "outputs": [],
   "source": [
    "corr_spear = pd.DataFrame(columns=['Название признака', 'Корреляция', 'p-value'])\n",
    "for col in cols:\n",
    "    new_row = {'Название признака':col, 'Корреляция':spearmanr(df[col],df['price_sq'])[0], 'p-value':spearmanr(df[col],df['price_sq'])[1]}\n",
    "    corr_spear = corr_spear.append(new_row, ignore_index=True)"
   ]
  },
  {
   "cell_type": "code",
   "execution_count": 35,
   "metadata": {},
   "outputs": [
    {
     "data": {
      "text/html": [
       "<div>\n",
       "<style scoped>\n",
       "    .dataframe tbody tr th:only-of-type {\n",
       "        vertical-align: middle;\n",
       "    }\n",
       "\n",
       "    .dataframe tbody tr th {\n",
       "        vertical-align: top;\n",
       "    }\n",
       "\n",
       "    .dataframe thead th {\n",
       "        text-align: right;\n",
       "    }\n",
       "</style>\n",
       "<table border=\"1\" class=\"dataframe\">\n",
       "  <thead>\n",
       "    <tr style=\"text-align: right;\">\n",
       "      <th></th>\n",
       "      <th>Название признака</th>\n",
       "      <th>Корреляция</th>\n",
       "      <th>p-value</th>\n",
       "    </tr>\n",
       "  </thead>\n",
       "  <tbody>\n",
       "    <tr>\n",
       "      <th>0</th>\n",
       "      <td>rooms</td>\n",
       "      <td>-0.344420</td>\n",
       "      <td>2.290231e-38</td>\n",
       "    </tr>\n",
       "    <tr>\n",
       "      <th>1</th>\n",
       "      <td>area</td>\n",
       "      <td>-0.341710</td>\n",
       "      <td>9.362038e-38</td>\n",
       "    </tr>\n",
       "    <tr>\n",
       "      <th>2</th>\n",
       "      <td>floor</td>\n",
       "      <td>0.203954</td>\n",
       "      <td>5.782123e-14</td>\n",
       "    </tr>\n",
       "    <tr>\n",
       "      <th>3</th>\n",
       "      <td>lon</td>\n",
       "      <td>-0.299681</td>\n",
       "      <td>5.056636e-29</td>\n",
       "    </tr>\n",
       "    <tr>\n",
       "      <th>4</th>\n",
       "      <td>lat</td>\n",
       "      <td>0.039632</td>\n",
       "      <td>1.484339e-01</td>\n",
       "    </tr>\n",
       "    <tr>\n",
       "      <th>5</th>\n",
       "      <td>floors_in_house</td>\n",
       "      <td>0.236192</td>\n",
       "      <td>2.486341e-18</td>\n",
       "    </tr>\n",
       "    <tr>\n",
       "      <th>6</th>\n",
       "      <td>building_year</td>\n",
       "      <td>0.099129</td>\n",
       "      <td>2.922860e-04</td>\n",
       "    </tr>\n",
       "    <tr>\n",
       "      <th>7</th>\n",
       "      <td>wall_id</td>\n",
       "      <td>0.023578</td>\n",
       "      <td>3.900660e-01</td>\n",
       "    </tr>\n",
       "    <tr>\n",
       "      <th>8</th>\n",
       "      <td>euro</td>\n",
       "      <td>0.172341</td>\n",
       "      <td>2.467700e-10</td>\n",
       "    </tr>\n",
       "    <tr>\n",
       "      <th>9</th>\n",
       "      <td>mortgage</td>\n",
       "      <td>0.012824</td>\n",
       "      <td>6.401808e-01</td>\n",
       "    </tr>\n",
       "    <tr>\n",
       "      <th>10</th>\n",
       "      <td>ceiling_height</td>\n",
       "      <td>-0.134564</td>\n",
       "      <td>8.346879e-07</td>\n",
       "    </tr>\n",
       "    <tr>\n",
       "      <th>11</th>\n",
       "      <td>balcon_glass</td>\n",
       "      <td>0.028890</td>\n",
       "      <td>2.922410e-01</td>\n",
       "    </tr>\n",
       "    <tr>\n",
       "      <th>12</th>\n",
       "      <td>lift</td>\n",
       "      <td>0.146861</td>\n",
       "      <td>7.363442e-08</td>\n",
       "    </tr>\n",
       "    <tr>\n",
       "      <th>13</th>\n",
       "      <td>wate_heating_system</td>\n",
       "      <td>0.032376</td>\n",
       "      <td>2.378536e-01</td>\n",
       "    </tr>\n",
       "    <tr>\n",
       "      <th>14</th>\n",
       "      <td>furniture</td>\n",
       "      <td>0.108238</td>\n",
       "      <td>7.598006e-05</td>\n",
       "    </tr>\n",
       "    <tr>\n",
       "      <th>15</th>\n",
       "      <td>internet</td>\n",
       "      <td>0.113752</td>\n",
       "      <td>3.187851e-05</td>\n",
       "    </tr>\n",
       "    <tr>\n",
       "      <th>16</th>\n",
       "      <td>telephon</td>\n",
       "      <td>-0.004685</td>\n",
       "      <td>8.644225e-01</td>\n",
       "    </tr>\n",
       "    <tr>\n",
       "      <th>17</th>\n",
       "      <td>tv</td>\n",
       "      <td>0.073514</td>\n",
       "      <td>7.293668e-03</td>\n",
       "    </tr>\n",
       "    <tr>\n",
       "      <th>18</th>\n",
       "      <td>regionLabel</td>\n",
       "      <td>-0.214387</td>\n",
       "      <td>2.653901e-15</td>\n",
       "    </tr>\n",
       "    <tr>\n",
       "      <th>19</th>\n",
       "      <td>keepLabel</td>\n",
       "      <td>0.297657</td>\n",
       "      <td>1.229781e-28</td>\n",
       "    </tr>\n",
       "    <tr>\n",
       "      <th>20</th>\n",
       "      <td>balconLabel</td>\n",
       "      <td>0.019498</td>\n",
       "      <td>4.772426e-01</td>\n",
       "    </tr>\n",
       "    <tr>\n",
       "      <th>21</th>\n",
       "      <td>bathLabel</td>\n",
       "      <td>-0.068759</td>\n",
       "      <td>1.210257e-02</td>\n",
       "    </tr>\n",
       "    <tr>\n",
       "      <th>22</th>\n",
       "      <td>districttr_label</td>\n",
       "      <td>-0.102803</td>\n",
       "      <td>1.719784e-04</td>\n",
       "    </tr>\n",
       "    <tr>\n",
       "      <th>23</th>\n",
       "      <td>dist_centr</td>\n",
       "      <td>-0.287217</td>\n",
       "      <td>1.076833e-26</td>\n",
       "    </tr>\n",
       "  </tbody>\n",
       "</table>\n",
       "</div>"
      ],
      "text/plain": [
       "      Название признака  Корреляция       p-value\n",
       "0                 rooms   -0.344420  2.290231e-38\n",
       "1                  area   -0.341710  9.362038e-38\n",
       "2                 floor    0.203954  5.782123e-14\n",
       "3                   lon   -0.299681  5.056636e-29\n",
       "4                   lat    0.039632  1.484339e-01\n",
       "5       floors_in_house    0.236192  2.486341e-18\n",
       "6         building_year    0.099129  2.922860e-04\n",
       "7               wall_id    0.023578  3.900660e-01\n",
       "8                  euro    0.172341  2.467700e-10\n",
       "9              mortgage    0.012824  6.401808e-01\n",
       "10       ceiling_height   -0.134564  8.346879e-07\n",
       "11         balcon_glass    0.028890  2.922410e-01\n",
       "12                 lift    0.146861  7.363442e-08\n",
       "13  wate_heating_system    0.032376  2.378536e-01\n",
       "14            furniture    0.108238  7.598006e-05\n",
       "15             internet    0.113752  3.187851e-05\n",
       "16             telephon   -0.004685  8.644225e-01\n",
       "17                   tv    0.073514  7.293668e-03\n",
       "18          regionLabel   -0.214387  2.653901e-15\n",
       "19            keepLabel    0.297657  1.229781e-28\n",
       "20          balconLabel    0.019498  4.772426e-01\n",
       "21            bathLabel   -0.068759  1.210257e-02\n",
       "22     districttr_label   -0.102803  1.719784e-04\n",
       "23           dist_centr   -0.287217  1.076833e-26"
      ]
     },
     "execution_count": 35,
     "metadata": {},
     "output_type": "execute_result"
    }
   ],
   "source": [
    "corr_spear"
   ]
  },
  {
   "cell_type": "markdown",
   "metadata": {},
   "source": [
    "### Зависимость стоимости квадратного метра от количества комнат <a class=\"anchor\" id=\"4.1\"></a>"
   ]
  },
  {
   "cell_type": "code",
   "execution_count": 37,
   "metadata": {},
   "outputs": [
    {
     "data": {
      "image/png": "[encoded data removed]",
      "text/plain": [
       "<Figure size 432x432 with 1 Axes>"
      ]
     },
     "metadata": {},
     "output_type": "display_data"
    }
   ],
   "source": [
    "fig = plt.figure(figsize=(6,6))\n",
    "ax = fig.add_subplot(111)\n",
    "sns.regplot(x=df['rooms'],y=df['price_sq'],x_jitter=0.07,ax=ax, color='#68A7AD')\n",
    "plt.xlabel(' ')\n",
    "plt.xlabel('\\nКоличество комнат', fontsize=15)\n",
    "plt.ylabel('Стоимость кватратного метра, тыс\\n', fontsize=15)\n",
    "ticks_y = tick.FuncFormatter(lambda x, pos: '{0:g}'.format(x/1_000))\n",
    "ax.yaxis.set_major_formatter(ticks_y)\n",
    "plt.show()"
   ]
  },
  {
   "cell_type": "code",
   "execution_count": 39,
   "metadata": {},
   "outputs": [
    {
     "data": {
      "text/html": [
       "<div>\n",
       "<style scoped>\n",
       "    .dataframe tbody tr th:only-of-type {\n",
       "        vertical-align: middle;\n",
       "    }\n",
       "\n",
       "    .dataframe tbody tr th {\n",
       "        vertical-align: top;\n",
       "    }\n",
       "\n",
       "    .dataframe thead th {\n",
       "        text-align: right;\n",
       "    }\n",
       "</style>\n",
       "<table border=\"1\" class=\"dataframe\">\n",
       "  <thead>\n",
       "    <tr style=\"text-align: right;\">\n",
       "      <th></th>\n",
       "      <th>Source</th>\n",
       "      <th>ddof1</th>\n",
       "      <th>H</th>\n",
       "      <th>p-unc</th>\n",
       "    </tr>\n",
       "  </thead>\n",
       "  <tbody>\n",
       "    <tr>\n",
       "      <th>Kruskal</th>\n",
       "      <td>rooms</td>\n",
       "      <td>4</td>\n",
       "      <td>162.220837</td>\n",
       "      <td>4.881925e-34</td>\n",
       "    </tr>\n",
       "  </tbody>\n",
       "</table>\n",
       "</div>"
      ],
      "text/plain": [
       "        Source  ddof1           H         p-unc\n",
       "Kruskal  rooms      4  162.220837  4.881925e-34"
      ]
     },
     "execution_count": 39,
     "metadata": {},
     "output_type": "execute_result"
    }
   ],
   "source": [
    "pg.kruskal(data = df, dv='price_sq', between='rooms')"
   ]
  },
  {
   "cell_type": "code",
   "execution_count": 40,
   "metadata": {},
   "outputs": [
    {
     "data": {
      "text/plain": [
       "rooms\n",
       "1    181627.0\n",
       "2    163999.0\n",
       "3    149665.0\n",
       "4    139537.0\n",
       "5    156579.0\n",
       "Name: price_sq, dtype: float64"
      ]
     },
     "execution_count": 40,
     "metadata": {},
     "output_type": "execute_result"
    }
   ],
   "source": [
    "df.groupby('rooms')['price_sq'].mean().round()"
   ]
  },
  {
   "cell_type": "markdown",
   "metadata": {},
   "source": [
    "Из рисунка и таблицы видно, стоимость квадратного метра снижается с возрастанием количества комнат в квартире, не считая 5-комнатные квартиры. Так как распределение целевой переменной не является нормальным, был проведен дисперсионный анализ для сравнения средних во всех группах квартир с разным количеством комнат с помощью непараметрического критерия Краскела-Уоллиса. "
   ]
  },
  {
   "cell_type": "markdown",
   "metadata": {},
   "source": [
    "### Зависимость стоимости квдратного метра от района <a class=\"anchor\" id=\"4.2\"></a>"
   ]
  },
  {
   "cell_type": "code",
   "execution_count": 43,
   "metadata": {},
   "outputs": [],
   "source": [
    "price_reg = df.groupby('region')['price_sq'].mean().reset_index().sort_values('price_sq', ascending = False)"
   ]
  },
  {
   "cell_type": "code",
   "execution_count": 44,
   "metadata": {},
   "outputs": [
    {
     "data": {
      "text/html": [
       "<div>\n",
       "<style scoped>\n",
       "    .dataframe tbody tr th:only-of-type {\n",
       "        vertical-align: middle;\n",
       "    }\n",
       "\n",
       "    .dataframe tbody tr th {\n",
       "        vertical-align: top;\n",
       "    }\n",
       "\n",
       "    .dataframe thead th {\n",
       "        text-align: right;\n",
       "    }\n",
       "</style>\n",
       "<table border=\"1\" class=\"dataframe\">\n",
       "  <thead>\n",
       "    <tr style=\"text-align: right;\">\n",
       "      <th></th>\n",
       "      <th>region</th>\n",
       "      <th>price_sq</th>\n",
       "    </tr>\n",
       "  </thead>\n",
       "  <tbody>\n",
       "    <tr>\n",
       "      <th>0</th>\n",
       "      <td>Ленинский</td>\n",
       "      <td>176038.586267</td>\n",
       "    </tr>\n",
       "    <tr>\n",
       "      <th>4</th>\n",
       "      <td>Фрунзенский</td>\n",
       "      <td>170408.919044</td>\n",
       "    </tr>\n",
       "    <tr>\n",
       "      <th>3</th>\n",
       "      <td>Советский</td>\n",
       "      <td>160823.624228</td>\n",
       "    </tr>\n",
       "    <tr>\n",
       "      <th>2</th>\n",
       "      <td>Первореченский</td>\n",
       "      <td>156213.793574</td>\n",
       "    </tr>\n",
       "    <tr>\n",
       "      <th>1</th>\n",
       "      <td>Первомайский</td>\n",
       "      <td>152754.491776</td>\n",
       "    </tr>\n",
       "  </tbody>\n",
       "</table>\n",
       "</div>"
      ],
      "text/plain": [
       "           region       price_sq\n",
       "0       Ленинский  176038.586267\n",
       "4     Фрунзенский  170408.919044\n",
       "3       Советский  160823.624228\n",
       "2  Первореченский  156213.793574\n",
       "1    Первомайский  152754.491776"
      ]
     },
     "execution_count": 44,
     "metadata": {},
     "output_type": "execute_result"
    }
   ],
   "source": [
    "price_reg"
   ]
  },
  {
   "cell_type": "code",
   "execution_count": 46,
   "metadata": {},
   "outputs": [
    {
     "data": {
      "image/png": "[encoded data removed]",
      "text/plain": [
       "<Figure size 432x432 with 1 Axes>"
      ]
     },
     "metadata": {},
     "output_type": "display_data"
    }
   ],
   "source": [
    "fig = plt.figure(figsize=(6,6))\n",
    "ax = fig.add_subplot(111)\n",
    "sns.barplot(data=price_reg,x='price_sq',y='region',ax=ax, color='#68A7AD')\n",
    "plt.xlabel('\\nСтоимость квадратного метра, тыс', fontsize=15)\n",
    "plt.ylabel('', fontsize=15)\n",
    "ticks_x = tick.FuncFormatter(lambda x, pos: '{0:g}'.format(x/1_000))\n",
    "ax.xaxis.set_major_formatter(ticks_x)\n",
    "plt.yticks(fontsize=15)\n",
    "#ax.set_yticklabels(labels=price_reg.region ,ha = 'left')\n",
    "plt.show()"
   ]
  },
  {
   "cell_type": "code",
   "execution_count": 48,
   "metadata": {},
   "outputs": [
    {
     "data": {
      "text/html": [
       "<div>\n",
       "<style scoped>\n",
       "    .dataframe tbody tr th:only-of-type {\n",
       "        vertical-align: middle;\n",
       "    }\n",
       "\n",
       "    .dataframe tbody tr th {\n",
       "        vertical-align: top;\n",
       "    }\n",
       "\n",
       "    .dataframe thead th {\n",
       "        text-align: right;\n",
       "    }\n",
       "</style>\n",
       "<table border=\"1\" class=\"dataframe\">\n",
       "  <thead>\n",
       "    <tr style=\"text-align: right;\">\n",
       "      <th></th>\n",
       "      <th>Source</th>\n",
       "      <th>ddof1</th>\n",
       "      <th>H</th>\n",
       "      <th>p-unc</th>\n",
       "    </tr>\n",
       "  </thead>\n",
       "  <tbody>\n",
       "    <tr>\n",
       "      <th>Kruskal</th>\n",
       "      <td>region</td>\n",
       "      <td>4</td>\n",
       "      <td>65.725918</td>\n",
       "      <td>1.809352e-13</td>\n",
       "    </tr>\n",
       "  </tbody>\n",
       "</table>\n",
       "</div>"
      ],
      "text/plain": [
       "         Source  ddof1          H         p-unc\n",
       "Kruskal  region      4  65.725918  1.809352e-13"
      ]
     },
     "execution_count": 48,
     "metadata": {},
     "output_type": "execute_result"
    }
   ],
   "source": [
    "pg.kruskal(data = df, dv='price_sq', between='region')"
   ]
  },
  {
   "cell_type": "markdown",
   "metadata": {},
   "source": [
    "Из рисунка и таблицы, на уровне значимости 5% можно сделать вывод о том, что стоимость квадратного метра зависит от месторасположения объекта (нам позволяет это сделать непараметрический тест Краскела-Уоллиса, результаты которого представлены в таблице 11). Самым дорогим районом является Ленинский и Фрунзенский районы, самый дешевый – Первомайский. "
   ]
  },
  {
   "cell_type": "markdown",
   "metadata": {},
   "source": [
    "### Зависимость стоимости квадратного метра от этажа <a class=\"anchor\" id=\"4.3\"></a>"
   ]
  },
  {
   "cell_type": "markdown",
   "metadata": {},
   "source": [
    "Сравним стоимость квадратного метра в зависимости от этажа объекта - первый, средний или последний этажи"
   ]
  },
  {
   "cell_type": "code",
   "execution_count": 51,
   "metadata": {},
   "outputs": [
    {
     "data": {
      "text/plain": [
       "Index(['Unnamed: 0.1', 'price', 'rooms', 'area', 'floor', 'lon', 'lat',\n",
       "       'floors_in_house', 'building_year', 'wall_id', 'euro', 'mortgage',\n",
       "       'ceiling_height', 'balcon_glass', 'lift', 'wate_heating_system',\n",
       "       'furniture', 'internet', 'telephon', 'tv', 'regionLabel', 'keepLabel',\n",
       "       'balconLabel', 'bathLabel', 'districttr_label', 'dist_centr', 'region',\n",
       "       'districttr', 'price_sq'],\n",
       "      dtype='object')"
      ]
     },
     "execution_count": 51,
     "metadata": {},
     "output_type": "execute_result"
    }
   ],
   "source": [
    "df.columns"
   ]
  },
  {
   "cell_type": "code",
   "execution_count": 56,
   "metadata": {},
   "outputs": [],
   "source": [
    "def fun_floor(x):\n",
    "    if x['floor'] == 1:\n",
    "        return 'Первый'\n",
    "    elif x['floor'] == x['floors_in_house']:\n",
    "        return 'Последний'\n",
    "    else:\n",
    "        return 'Средний'\n",
    "df['floor_str'] = df.apply(fun_floor, axis=1)\n",
    "    "
   ]
  },
  {
   "cell_type": "code",
   "execution_count": 57,
   "metadata": {},
   "outputs": [],
   "source": [
    "price_floor = df.groupby('floor_str')['price_sq'].mean().reset_index().sort_values('price_sq', ascending = True)"
   ]
  },
  {
   "cell_type": "code",
   "execution_count": 58,
   "metadata": {},
   "outputs": [
    {
     "data": {
      "text/html": [
       "<div>\n",
       "<style scoped>\n",
       "    .dataframe tbody tr th:only-of-type {\n",
       "        vertical-align: middle;\n",
       "    }\n",
       "\n",
       "    .dataframe tbody tr th {\n",
       "        vertical-align: top;\n",
       "    }\n",
       "\n",
       "    .dataframe thead th {\n",
       "        text-align: right;\n",
       "    }\n",
       "</style>\n",
       "<table border=\"1\" class=\"dataframe\">\n",
       "  <thead>\n",
       "    <tr style=\"text-align: right;\">\n",
       "      <th></th>\n",
       "      <th>floor_str</th>\n",
       "      <th>price_sq</th>\n",
       "    </tr>\n",
       "  </thead>\n",
       "  <tbody>\n",
       "    <tr>\n",
       "      <th>0</th>\n",
       "      <td>Первый</td>\n",
       "      <td>150955.0</td>\n",
       "    </tr>\n",
       "    <tr>\n",
       "      <th>1</th>\n",
       "      <td>Последний</td>\n",
       "      <td>158324.0</td>\n",
       "    </tr>\n",
       "    <tr>\n",
       "      <th>2</th>\n",
       "      <td>Средний</td>\n",
       "      <td>168968.0</td>\n",
       "    </tr>\n",
       "  </tbody>\n",
       "</table>\n",
       "</div>"
      ],
      "text/plain": [
       "   floor_str  price_sq\n",
       "0     Первый  150955.0\n",
       "1  Последний  158324.0\n",
       "2    Средний  168968.0"
      ]
     },
     "execution_count": 58,
     "metadata": {},
     "output_type": "execute_result"
    }
   ],
   "source": [
    "price_floor.round()"
   ]
  },
  {
   "cell_type": "code",
   "execution_count": 59,
   "metadata": {},
   "outputs": [
    {
     "data": {
      "image/png": "[encoded data removed]",
      "text/plain": [
       "<Figure size 432x432 with 1 Axes>"
      ]
     },
     "metadata": {},
     "output_type": "display_data"
    }
   ],
   "source": [
    "fig = plt.figure(figsize=(6,6))\n",
    "ax = fig.add_subplot(111)\n",
    "sns.barplot(data=price_floor,y='price_sq',x='floor_str',ax=ax, color='#68A7AD')\n",
    "plt.ylabel('Стоимость квадратного метра,\\n тыс\\n', fontsize=15)\n",
    "plt.xlabel('', fontsize=15)\n",
    "ticks_x = tick.FuncFormatter(lambda x, pos: '{0:g}'.format(x/1_000))\n",
    "ax.yaxis.set_major_formatter(ticks_x)\n",
    "plt.yticks(fontsize=15)\n",
    "plt.xticks(fontsize=15)\n",
    "#ax.set_yticklabels(labels=price_reg.region ,ha = 'left')\n",
    "plt.show()"
   ]
  },
  {
   "cell_type": "code",
   "execution_count": 61,
   "metadata": {},
   "outputs": [
    {
     "data": {
      "text/html": [
       "<div>\n",
       "<style scoped>\n",
       "    .dataframe tbody tr th:only-of-type {\n",
       "        vertical-align: middle;\n",
       "    }\n",
       "\n",
       "    .dataframe tbody tr th {\n",
       "        vertical-align: top;\n",
       "    }\n",
       "\n",
       "    .dataframe thead th {\n",
       "        text-align: right;\n",
       "    }\n",
       "</style>\n",
       "<table border=\"1\" class=\"dataframe\">\n",
       "  <thead>\n",
       "    <tr style=\"text-align: right;\">\n",
       "      <th></th>\n",
       "      <th>Source</th>\n",
       "      <th>ddof1</th>\n",
       "      <th>H</th>\n",
       "      <th>p-unc</th>\n",
       "    </tr>\n",
       "  </thead>\n",
       "  <tbody>\n",
       "    <tr>\n",
       "      <th>Kruskal</th>\n",
       "      <td>floor_str</td>\n",
       "      <td>2</td>\n",
       "      <td>50.20873</td>\n",
       "      <td>1.251160e-11</td>\n",
       "    </tr>\n",
       "  </tbody>\n",
       "</table>\n",
       "</div>"
      ],
      "text/plain": [
       "            Source  ddof1         H         p-unc\n",
       "Kruskal  floor_str      2  50.20873  1.251160e-11"
      ]
     },
     "execution_count": 61,
     "metadata": {},
     "output_type": "execute_result"
    }
   ],
   "source": [
    "pg.kruskal(data = df, dv='price_sq', between='floor_str')"
   ]
  },
  {
   "cell_type": "markdown",
   "metadata": {},
   "source": [
    "Стоимость квадратного метра квартир, находящихся на первом этаже, самая низкая (150 955), на среднем – самая высокая (168 989), на последнем – 158 324. Данные различия статистически значимы на уровне 1%, это доказывает непараметрический тест Краскела-Уоллиса, результаты которого представлены в таблице выше."
   ]
  },
  {
   "cell_type": "markdown",
   "metadata": {},
   "source": [
    "# `ВЫВОД`"
   ]
  },
  {
   "cell_type": "markdown",
   "metadata": {},
   "source": [
    "    Переменная price имеет ненормальное распределение. В среднем квартира стоит 8,06 млн, чаще всего встречается цена 7 млн, а 75 % всех квартир стоит 9,8 млн или меньше. Размах стоимости квартиры 17,89 млн (от 2,1 млн до 19,99). Корреляция целевой переменной – `price` заметная и высокая (corr > 0.5) с такими независимыми переменными как  `rooms` – количество комнат в квартире (corr = 0.669), `area` – площадь квартиры (corr = 0.816).\n",
    "    Средняя стоимость квадратного метра равна 164 674, распределение скошено влево. Цена разнится от 32 тысяч до 520 тысяч. Стоимость квадратного метра снижается с возрастанием количества комнат в квартире, не считая 5-комнатные квартиры. Самым дорогим районом является Ленинский и Фрунзенский районы, самый дешевый – Первомайский. Стоимость квадратного метра квартир, находящихся на первом этаже, самая низкая (150 955), на среднем – самая высокая (168 989), на последнем – 158 324."
   ]
  }
 ],
 "metadata": {
  "kernelspec": {
   "display_name": "Python 3",
   "language": "python",
   "name": "python3"
  },
  "language_info": {
   "codemirror_mode": {
    "name": "ipython",
    "version": 3
   },
   "file_extension": ".py",
   "mimetype": "text/x-python",
   "name": "python",
   "nbconvert_exporter": "python",
   "pygments_lexer": "ipython3",
   "version": "3.8.3"
  }
 },
 "nbformat": 4,
 "nbformat_minor": 4
}

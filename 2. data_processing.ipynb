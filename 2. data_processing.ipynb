{
 "cells": [
  {
   "cell_type": "markdown",
   "metadata": {},
   "source": [
    "# Обработка данных"
   ]
  },
  {
   "cell_type": "markdown",
   "metadata": {},
   "source": [
    "**`Цель`**:\n",
    "        1. Избавиться от пропущенных значений;\n",
    "        2. Удалить неинформативные, избыточные переменные;\n",
    "        3. Избавиться от дубликатов;\n",
    "        4. Преобразовать переменные."
   ]
  },
  {
   "cell_type": "markdown",
   "metadata": {},
   "source": [
    "## Оглавление\n",
    "\n",
    "1. [Описание данных](#1)<br>\n",
    "2. [Работа с переменными](#2)<br>\n",
    "3. [Обработка пропущенных значений](#3)<br>\n",
    "4. [Удаление неинформативных переменных](#4)<br>\n",
    "5. [Преобразование переменных](#5)<br>\n",
    "6. [Удаление избыточных переменных](#6)<br>\n",
    "7. [Избавимся от дубликатов](#7)<br>\n",
    "8. [Создание новой переменной - расстояние до центра города](#8)<br>\n",
    "9. [Обработка выбросов](#9)<br>"
   ]
  },
  {
   "cell_type": "code",
   "execution_count": 1,
   "metadata": {},
   "outputs": [],
   "source": [
    "# импорт необходимых библиотек\n",
    "import pandas as pd\n",
    "import warnings\n",
    "warnings.filterwarnings(\"ignore\")"
   ]
  },
  {
   "cell_type": "markdown",
   "metadata": {},
   "source": [
    "### Описание данных <a class=\"anchor\" id=\"1\"></a>"
   ]
  },
  {
   "cell_type": "markdown",
   "metadata": {},
   "source": [
    "- price - стоимость квартиры;\n",
    "- rooms - количество комнат;\n",
    "- area - площадь квартиры;\n",
    "- floor - этаж;\n",
    "- districttr - район;\n",
    "- lon - долгота;\n",
    "- lat - широта;\n",
    "- flatId - Id квартиры;\n",
    "- floors_in_house - этажность дома;\n",
    "- keep - ремонт;\n",
    "- balcon - наличие балкона;\n",
    "- building_year - год постройки дома;\n",
    "- wall_id - тип стен дома;\n",
    "- euro - является ли квартира евро-кваритрой;\n",
    "- street - улица; \n",
    "- house_address_number - номер дома;\n",
    "- mortgage - подходит ли под ипотеку;\n",
    "- young_family - подходит ли молодой семье;\n",
    "- transport - наличие транспорта;\n",
    "- ceiling_height - высота потолков;\n",
    "- renovation - ремонт;\n",
    "- bath - наличие ванной;\n",
    "- wall_type - тип стен;\n",
    "- balcon2 - тип балкона;\n",
    "- balcon_glass - застеклен ли балкон;\n",
    "- mater_window - материал окон;\n",
    "- sunny - солнечная ли сторона;\n",
    "- view - вид из окна;\n",
    "- lift - наличие лифта;\n",
    "- yard - наличие спортивной площадки;\n",
    "- parking - наличие парковки;\n",
    "- wate_heating_system - наличие водонагревательной системы;\n",
    "- domofon - наличие домофона;\n",
    "- iron_door - наличие железной двери;\n",
    "- Water_meter - наличие счетчиков;\n",
    "- furniture - наличие мебели;\n",
    "- technic - наличие техники;\n",
    "- services - наличие сервисов (телефон, интернет и т.д.)"
   ]
  },
  {
   "cell_type": "code",
   "execution_count": 2,
   "metadata": {},
   "outputs": [],
   "source": [
    "data = pd.read_excel(\"InitialData.xlsx\", index_col=0)"
   ]
  },
  {
   "cell_type": "code",
   "execution_count": 3,
   "metadata": {
    "scrolled": true
   },
   "outputs": [
    {
     "data": {
      "text/html": [
       "<div>\n",
       "<style scoped>\n",
       "    .dataframe tbody tr th:only-of-type {\n",
       "        vertical-align: middle;\n",
       "    }\n",
       "\n",
       "    .dataframe tbody tr th {\n",
       "        vertical-align: top;\n",
       "    }\n",
       "\n",
       "    .dataframe thead th {\n",
       "        text-align: right;\n",
       "    }\n",
       "</style>\n",
       "<table border=\"1\" class=\"dataframe\">\n",
       "  <thead>\n",
       "    <tr style=\"text-align: right;\">\n",
       "      <th></th>\n",
       "      <th>price</th>\n",
       "      <th>rooms</th>\n",
       "      <th>area</th>\n",
       "      <th>floor</th>\n",
       "      <th>districttr</th>\n",
       "      <th>lon</th>\n",
       "      <th>lat</th>\n",
       "      <th>flatId</th>\n",
       "      <th>floors_in_house</th>\n",
       "      <th>keep</th>\n",
       "      <th>...</th>\n",
       "      <th>lift</th>\n",
       "      <th>yard</th>\n",
       "      <th>parking</th>\n",
       "      <th>wate_heating_system</th>\n",
       "      <th>domofon</th>\n",
       "      <th>iron_door</th>\n",
       "      <th>Water_meter</th>\n",
       "      <th>furniture</th>\n",
       "      <th>technic</th>\n",
       "      <th>services</th>\n",
       "    </tr>\n",
       "  </thead>\n",
       "  <tbody>\n",
       "    <tr>\n",
       "      <th>0</th>\n",
       "      <td>7800000</td>\n",
       "      <td>3</td>\n",
       "      <td>59.4</td>\n",
       "      <td>2</td>\n",
       "      <td>zmeinka</td>\n",
       "      <td>131.895842</td>\n",
       "      <td>43.086803</td>\n",
       "      <td>8056913</td>\n",
       "      <td>5</td>\n",
       "      <td>cosmetic</td>\n",
       "      <td>...</td>\n",
       "      <td>NaN</td>\n",
       "      <td>Двор</td>\n",
       "      <td>наземный паркинг</td>\n",
       "      <td>NaN</td>\n",
       "      <td>да</td>\n",
       "      <td>есть</td>\n",
       "      <td>есть</td>\n",
       "      <td>NaN</td>\n",
       "      <td>NaN</td>\n",
       "      <td>телефон, интернет, кабельное телевидение</td>\n",
       "    </tr>\n",
       "    <tr>\n",
       "      <th>1</th>\n",
       "      <td>6500000</td>\n",
       "      <td>3</td>\n",
       "      <td>57.5</td>\n",
       "      <td>5</td>\n",
       "      <td>balyaeva</td>\n",
       "      <td>NaN</td>\n",
       "      <td>NaN</td>\n",
       "      <td>7110701</td>\n",
       "      <td>5</td>\n",
       "      <td>half</td>\n",
       "      <td>...</td>\n",
       "      <td>NaN</td>\n",
       "      <td>Двор</td>\n",
       "      <td>наземный паркинг</td>\n",
       "      <td>NaN</td>\n",
       "      <td>да</td>\n",
       "      <td>есть</td>\n",
       "      <td>есть</td>\n",
       "      <td>кухонный гарнитур, шкаф-купе, стол рабочий, ст...</td>\n",
       "      <td>NaN</td>\n",
       "      <td>кабельное телевидение</td>\n",
       "    </tr>\n",
       "    <tr>\n",
       "      <th>2</th>\n",
       "      <td>8300000</td>\n",
       "      <td>1</td>\n",
       "      <td>38.7</td>\n",
       "      <td>2</td>\n",
       "      <td>centr</td>\n",
       "      <td>131.892905</td>\n",
       "      <td>43.120511</td>\n",
       "      <td>6988438</td>\n",
       "      <td>9</td>\n",
       "      <td>cosmetic</td>\n",
       "      <td>...</td>\n",
       "      <td>пассажирский</td>\n",
       "      <td>Двор</td>\n",
       "      <td>наземный паркинг</td>\n",
       "      <td>да</td>\n",
       "      <td>да</td>\n",
       "      <td>есть</td>\n",
       "      <td>есть</td>\n",
       "      <td>кухонный гарнитур, шкаф-купе, стол рабочий, ст...</td>\n",
       "      <td>NaN</td>\n",
       "      <td>интернет, кабельное телевидение</td>\n",
       "    </tr>\n",
       "    <tr>\n",
       "      <th>3</th>\n",
       "      <td>13950000</td>\n",
       "      <td>3</td>\n",
       "      <td>89.6</td>\n",
       "      <td>16</td>\n",
       "      <td>nekrasovskaya</td>\n",
       "      <td>131.903083</td>\n",
       "      <td>43.122281</td>\n",
       "      <td>6656303</td>\n",
       "      <td>26</td>\n",
       "      <td>good</td>\n",
       "      <td>...</td>\n",
       "      <td>пассажирский и грузовой</td>\n",
       "      <td>Двор</td>\n",
       "      <td>наземный паркинг</td>\n",
       "      <td>NaN</td>\n",
       "      <td>да</td>\n",
       "      <td>есть</td>\n",
       "      <td>есть</td>\n",
       "      <td>NaN</td>\n",
       "      <td>NaN</td>\n",
       "      <td>телефон, интернет, кабельное телевидение</td>\n",
       "    </tr>\n",
       "    <tr>\n",
       "      <th>4</th>\n",
       "      <td>5700000</td>\n",
       "      <td>1</td>\n",
       "      <td>29.3</td>\n",
       "      <td>7</td>\n",
       "      <td>tolstogo</td>\n",
       "      <td>131.913809</td>\n",
       "      <td>43.120971</td>\n",
       "      <td>5594677</td>\n",
       "      <td>13</td>\n",
       "      <td>cosmetic</td>\n",
       "      <td>...</td>\n",
       "      <td>NaN</td>\n",
       "      <td>Двор</td>\n",
       "      <td>наземный паркинг</td>\n",
       "      <td>NaN</td>\n",
       "      <td>да</td>\n",
       "      <td>есть</td>\n",
       "      <td>есть</td>\n",
       "      <td>NaN</td>\n",
       "      <td>NaN</td>\n",
       "      <td>телефон, интернет, кабельное телевидение</td>\n",
       "    </tr>\n",
       "  </tbody>\n",
       "</table>\n",
       "<p>5 rows × 38 columns</p>\n",
       "</div>"
      ],
      "text/plain": [
       "      price  rooms  area  floor     districttr         lon        lat  \\\n",
       "0   7800000      3  59.4      2        zmeinka  131.895842  43.086803   \n",
       "1   6500000      3  57.5      5       balyaeva         NaN        NaN   \n",
       "2   8300000      1  38.7      2          centr  131.892905  43.120511   \n",
       "3  13950000      3  89.6     16  nekrasovskaya  131.903083  43.122281   \n",
       "4   5700000      1  29.3      7       tolstogo  131.913809  43.120971   \n",
       "\n",
       "    flatId  floors_in_house      keep  ...                     lift  yard  \\\n",
       "0  8056913                5  cosmetic  ...                      NaN  Двор   \n",
       "1  7110701                5      half  ...                      NaN  Двор   \n",
       "2  6988438                9  cosmetic  ...             пассажирский  Двор   \n",
       "3  6656303               26      good  ...  пассажирский и грузовой  Двор   \n",
       "4  5594677               13  cosmetic  ...                      NaN  Двор   \n",
       "\n",
       "            parking  wate_heating_system domofon  iron_door  Water_meter  \\\n",
       "0  наземный паркинг                  NaN      да       есть         есть   \n",
       "1  наземный паркинг                  NaN      да       есть         есть   \n",
       "2  наземный паркинг                   да      да       есть         есть   \n",
       "3  наземный паркинг                  NaN      да       есть         есть   \n",
       "4  наземный паркинг                  NaN      да       есть         есть   \n",
       "\n",
       "                                           furniture  technic  \\\n",
       "0                                                NaN      NaN   \n",
       "1  кухонный гарнитур, шкаф-купе, стол рабочий, ст...      NaN   \n",
       "2  кухонный гарнитур, шкаф-купе, стол рабочий, ст...      NaN   \n",
       "3                                                NaN      NaN   \n",
       "4                                                NaN      NaN   \n",
       "\n",
       "                                   services  \n",
       "0  телефон, интернет, кабельное телевидение  \n",
       "1                     кабельное телевидение  \n",
       "2           интернет, кабельное телевидение  \n",
       "3  телефон, интернет, кабельное телевидение  \n",
       "4  телефон, интернет, кабельное телевидение  \n",
       "\n",
       "[5 rows x 38 columns]"
      ]
     },
     "execution_count": 3,
     "metadata": {},
     "output_type": "execute_result"
    }
   ],
   "source": [
    "data.head()"
   ]
  },
  {
   "cell_type": "code",
   "execution_count": 4,
   "metadata": {},
   "outputs": [
    {
     "data": {
      "text/plain": [
       "price                                                    7800000\n",
       "rooms                                                          3\n",
       "area                                                        59.4\n",
       "floor                                                          2\n",
       "districttr                                               zmeinka\n",
       "lon                                                   131.895842\n",
       "lat                                                    43.086803\n",
       "flatId                                                   8056913\n",
       "floors_in_house                                                5\n",
       "keep                                                    cosmetic\n",
       "balcon                                                yes_balcon\n",
       "building_year                                             1971.0\n",
       "wall_id                                                       11\n",
       "euro                                                        True\n",
       "street                                       Зои Космодемьянской\n",
       "house_address_number                                          38\n",
       "mortgage                                                    True\n",
       "young_family                                               False\n",
       "transport                                                   True\n",
       "ceiling_height                                             2.5 м\n",
       "renovation                                  косметический ремонт\n",
       "bath                                                  раздельный\n",
       "wall_type                                              кирпичные\n",
       "balcon2                                              есть балкон\n",
       "balcon_glass                                                 NaN\n",
       "mater_window                                         пластиковые\n",
       "sunny                                                 часть окон\n",
       "view                                                     во двор\n",
       "lift                                                         NaN\n",
       "yard                                                        Двор\n",
       "parking                                         наземный паркинг\n",
       "wate_heating_system                                          NaN\n",
       "domofon                                                       да\n",
       "iron_door                                                   есть\n",
       "Water_meter                                                 есть\n",
       "furniture                                                    NaN\n",
       "technic                                                      NaN\n",
       "services                телефон, интернет, кабельное телевидение\n",
       "Name: 0, dtype: object"
      ]
     },
     "execution_count": 4,
     "metadata": {},
     "output_type": "execute_result"
    }
   ],
   "source": [
    "data.iloc[0]"
   ]
  },
  {
   "cell_type": "markdown",
   "metadata": {},
   "source": [
    "### Работа с переменными <a class=\"anchor\" id=\"2\"></a>"
   ]
  },
  {
   "cell_type": "code",
   "execution_count": 5,
   "metadata": {},
   "outputs": [
    {
     "data": {
      "text/plain": [
       "price                     int64\n",
       "rooms                     int64\n",
       "area                    float64\n",
       "floor                     int64\n",
       "districttr               object\n",
       "lon                     float64\n",
       "lat                     float64\n",
       "flatId                    int64\n",
       "floors_in_house           int64\n",
       "keep                     object\n",
       "balcon                   object\n",
       "building_year           float64\n",
       "wall_id                   int64\n",
       "euro                       bool\n",
       "street                   object\n",
       "house_address_number      int64\n",
       "mortgage                   bool\n",
       "young_family               bool\n",
       "transport                  bool\n",
       "ceiling_height           object\n",
       "renovation               object\n",
       "bath                     object\n",
       "wall_type                object\n",
       "balcon2                  object\n",
       "balcon_glass             object\n",
       "mater_window             object\n",
       "sunny                    object\n",
       "view                     object\n",
       "lift                     object\n",
       "yard                     object\n",
       "parking                  object\n",
       "wate_heating_system      object\n",
       "domofon                  object\n",
       "iron_door                object\n",
       "Water_meter              object\n",
       "furniture                object\n",
       "technic                  object\n",
       "services                 object\n",
       "dtype: object"
      ]
     },
     "execution_count": 5,
     "metadata": {},
     "output_type": "execute_result"
    }
   ],
   "source": [
    "data.dtypes"
   ]
  },
  {
   "cell_type": "markdown",
   "metadata": {},
   "source": [
    "Признаки «street» и «house_address_number» объединим в один – «address». "
   ]
  },
  {
   "cell_type": "code",
   "execution_count": 6,
   "metadata": {},
   "outputs": [],
   "source": [
    "# Создаем новую переменную address и удаляем избыточные - street и house_address_number\n",
    "data['address'] = data['street'] + ', ' + data['house_address_number'].astype('str')\n",
    "data = data.drop(['street', 'house_address_number'], axis=1)"
   ]
  },
  {
   "cell_type": "code",
   "execution_count": 7,
   "metadata": {},
   "outputs": [],
   "source": [
    "# Приводим ceiling_height к типу float\n",
    "data.ceiling_height = data.ceiling_height.str.replace(' м','').astype('float')"
   ]
  },
  {
   "cell_type": "code",
   "execution_count": 8,
   "metadata": {},
   "outputs": [
    {
     "data": {
      "text/plain": [
       "array(['телефон, интернет, кабельное телевидение',\n",
       "       'кабельное телевидение', 'интернет, кабельное телевидение'],\n",
       "      dtype=object)"
      ]
     },
     "execution_count": 8,
     "metadata": {},
     "output_type": "execute_result"
    }
   ],
   "source": [
    "data['services'].unique()"
   ]
  },
  {
   "cell_type": "markdown",
   "metadata": {},
   "source": [
    "Признак «services» разобьем на три признака «internet», «telephon» и «tv»."
   ]
  },
  {
   "cell_type": "code",
   "execution_count": 9,
   "metadata": {},
   "outputs": [],
   "source": [
    "# Создаём новые переменные из services - internet, telephon и tv, указывающих на их наличие в квартире\n",
    "data['internet'] = data['services'].fillna('nothing').apply(lambda x: 1 if x.find('интернет')>=0 else 0)\n",
    "data['telephon'] = data['services'].fillna('nothing').apply(lambda x: 1 if x.find('телефон')>=0 else 0)\n",
    "data['tv'] = data['services'].fillna('nothing').apply(lambda x: 1 if x.find('кабельное телевидение')>=0 else 0)"
   ]
  },
  {
   "cell_type": "markdown",
   "metadata": {},
   "source": [
    "### Обработка пропущенных значений <a class=\"anchor\" id=\"3\"></a>"
   ]
  },
  {
   "cell_type": "code",
   "execution_count": 10,
   "metadata": {},
   "outputs": [
    {
     "data": {
      "text/plain": [
       "technic                1344\n",
       "wate_heating_system    1280\n",
       "furniture              1152\n",
       "balcon_glass            896\n",
       "lift                    832\n",
       "building_year           384\n",
       "domofon                 320\n",
       "lon                     256\n",
       "lat                     256\n",
       "price                     0\n",
       "sunny                     0\n",
       "view                      0\n",
       "yard                      0\n",
       "parking                   0\n",
       "Water_meter               0\n",
       "iron_door                 0\n",
       "services                  0\n",
       "address                   0\n",
       "internet                  0\n",
       "telephon                  0\n",
       "mater_window              0\n",
       "wall_type                 0\n",
       "balcon2                   0\n",
       "rooms                     0\n",
       "area                      0\n",
       "floor                     0\n",
       "districttr                0\n",
       "flatId                    0\n",
       "floors_in_house           0\n",
       "keep                      0\n",
       "balcon                    0\n",
       "wall_id                   0\n",
       "euro                      0\n",
       "mortgage                  0\n",
       "young_family              0\n",
       "transport                 0\n",
       "ceiling_height            0\n",
       "renovation                0\n",
       "bath                      0\n",
       "tv                        0\n",
       "dtype: int64"
      ]
     },
     "execution_count": 10,
     "metadata": {},
     "output_type": "execute_result"
    }
   ],
   "source": [
    "data.isna().sum().sort_values(ascending=False)"
   ]
  },
  {
   "cell_type": "markdown",
   "metadata": {},
   "source": [
    "Признаки «technic», «furniture», «wate_heating_system», «domofon», «water_meter», «iron_door», «parking», «sunny», «services», «balcon_glass» заменяем значением «нет» в тех местах, где пропущены значения, что указывает на тот факт, что данной характеристики в квартире нет."
   ]
  },
  {
   "cell_type": "code",
   "execution_count": 11,
   "metadata": {},
   "outputs": [],
   "source": [
    "data['domofon'] = data['domofon'].fillna('нет')\n",
    "data['iron_door'] = data['iron_door'].fillna('нет')\n",
    "data['Water_meter'] = data['Water_meter'].fillna('нет')"
   ]
  },
  {
   "cell_type": "code",
   "execution_count": 12,
   "metadata": {},
   "outputs": [],
   "source": [
    "data['parking'] = data['parking'].fillna('nothing').apply(lambda x: 0 if (x.find('парковка отсутствует')>=0 or x.find('nothing')>=0) else 1)\n",
    "data.furniture = data.furniture.fillna('nothing').apply(lambda x: 0 if x=='nothing' else 1)\n",
    "data.technic = data.technic.fillna('nothing').apply(lambda x: 0 if x=='nothing' else 1)\n",
    "\n",
    "data.wate_heating_system = data.wate_heating_system.fillna('нет')\n",
    "data.balcon_glass = data.balcon_glass.fillna('нет')"
   ]
  },
  {
   "cell_type": "code",
   "execution_count": 13,
   "metadata": {},
   "outputs": [],
   "source": [
    "# Будем считать, что лифт есть во всех домах, где больше 5 этажей\n",
    "data.lift = data.lift.fillna('nothing').apply(lambda x: 0 if x=='nothing' else 1)\n",
    "data['floors_more_5'] = (data['floors_in_house']>5).astype('int')\n",
    "\n",
    "def lift(x):\n",
    "    if x['lift'] == 1 or x['floors_more_5'] == 1:\n",
    "        return 1\n",
    "    else:\n",
    "        return 0\n",
    "data['lift'] = data.apply(lift,axis=1)"
   ]
  },
  {
   "cell_type": "code",
   "execution_count": 14,
   "metadata": {},
   "outputs": [],
   "source": [
    "# Переменную building_year заполним медианным значением\n",
    "data.building_year = data.building_year.fillna(data.building_year.median())"
   ]
  },
  {
   "cell_type": "markdown",
   "metadata": {},
   "source": [
    "### Удаление неинформативных переменных <a class=\"anchor\" id=\"4\"></a>\n",
    "Если переменная в 70% и более случаев принмает одно и то же значение, будем считать ее неинформативной"
   ]
  },
  {
   "cell_type": "code",
   "execution_count": 15,
   "metadata": {},
   "outputs": [
    {
     "name": "stdout",
     "output_type": "stream",
     "text": [
      "districttr\n",
      "nekrasovskaya                       10.000000\n",
      "64-71-mikrorajjony                  10.000000\n",
      "ehgersheld                           6.666667\n",
      "centr                                6.666667\n",
      "tretya-rabochaya                     6.666667\n",
      "churkin                              6.666667\n",
      "borisenko                            6.666667\n",
      "avtovokzal                           6.666667\n",
      "snegovaya-pad                        3.333333\n",
      "barabash-s                           3.333333\n",
      "prospekt-100-letiya-vladivostoka     3.333333\n",
      "balyaeva                             3.333333\n",
      "vesennyaya                           3.333333\n",
      "zmeinka                              3.333333\n",
      "diomid                               3.333333\n",
      "varyag                               3.333333\n",
      "tikhaya                              3.333333\n",
      "dneprovskaya                         3.333333\n",
      "sedanka                              3.333333\n",
      "tolstogo                             3.333333\n",
      "Name: districttr, dtype: float64\n",
      "________________________________________\n",
      "keep\n",
      "cosmetic    53.333333\n",
      "good        23.333333\n",
      "design      13.333333\n",
      "black        6.666667\n",
      "half         3.333333\n",
      "Name: keep, dtype: float64\n",
      "________________________________________\n",
      "balcon\n",
      "yes_balcon     60.000000\n",
      "no_balcon      20.000000\n",
      "loggia         16.666667\n",
      "more_balcon     3.333333\n",
      "Name: balcon, dtype: float64\n",
      "________________________________________\n",
      "euro\n",
      "False    80.0\n",
      "True     20.0\n",
      "Name: euro, dtype: float64\n",
      "________________________________________\n",
      "mortgage\n",
      "True     76.666667\n",
      "False    23.333333\n",
      "Name: mortgage, dtype: float64\n",
      "________________________________________\n",
      "young_family\n",
      "False    100.0\n",
      "Name: young_family, dtype: float64\n",
      "________________________________________\n",
      "transport\n",
      "True     93.333333\n",
      "False     6.666667\n",
      "Name: transport, dtype: float64\n",
      "________________________________________\n",
      "renovation\n",
      "косметический ремонт          53.333333\n",
      "современный ремонт            23.333333\n",
      "ремонт по дизайн - проекту    13.333333\n",
      "черновая отделка               6.666667\n",
      "частичный ремонт               3.333333\n",
      "Name: renovation, dtype: float64\n",
      "________________________________________\n",
      "bath\n",
      "совмещенный    60.0\n",
      "раздельный     40.0\n",
      "Name: bath, dtype: float64\n",
      "________________________________________\n",
      "wall_type\n",
      "панельные              33.333333\n",
      "кирпичные              33.333333\n",
      "монолитные             20.000000\n",
      "монолитно-кирпичный     6.666667\n",
      "монолитно-каркасные     6.666667\n",
      "Name: wall_type, dtype: float64\n",
      "________________________________________\n",
      "balcon2\n",
      "есть балкон            60.000000\n",
      "нет балкона            20.000000\n",
      "лоджия                 16.666667\n",
      "два балкона и более     3.333333\n",
      "Name: balcon2, dtype: float64\n",
      "________________________________________\n",
      "balcon_glass\n",
      "есть    53.333333\n",
      "нет     46.666667\n",
      "Name: balcon_glass, dtype: float64\n",
      "________________________________________\n",
      "mater_window\n",
      "пластиковые               96.666667\n",
      "пластиковые/деревянные     3.333333\n",
      "Name: mater_window, dtype: float64\n",
      "________________________________________\n",
      "sunny\n",
      "часть окон    90.0\n",
      "все окна      10.0\n",
      "Name: sunny, dtype: float64\n",
      "________________________________________\n",
      "view\n",
      "во двор                                                                                       76.666667\n",
      "стены соседних домов, во двор, на детскую площадку                                             6.666667\n",
      "памятники архитектуры, культуры, пешеходные бульвары, во двор                                  6.666667\n",
      "трассы, автомобильные мосты, во двор                                                           3.333333\n",
      "во двор, на детскую площадку                                                                   3.333333\n",
      "трассы, автомобильные мосты, памятники архитектуры, культуры, пешеходные бульвары, во двор     3.333333\n",
      "Name: view, dtype: float64\n",
      "________________________________________\n",
      "yard\n",
      "Двор    100.0\n",
      "Name: yard, dtype: float64\n",
      "________________________________________\n",
      "wate_heating_system\n",
      "нет    66.666667\n",
      "да     33.333333\n",
      "Name: wate_heating_system, dtype: float64\n",
      "________________________________________\n",
      "domofon\n",
      "да     83.333333\n",
      "нет    16.666667\n",
      "Name: domofon, dtype: float64\n",
      "________________________________________\n",
      "iron_door\n",
      "есть    100.0\n",
      "Name: iron_door, dtype: float64\n",
      "________________________________________\n",
      "Water_meter\n",
      "есть    100.0\n",
      "Name: Water_meter, dtype: float64\n",
      "________________________________________\n",
      "services\n",
      "телефон, интернет, кабельное телевидение    63.333333\n",
      "интернет, кабельное телевидение             33.333333\n",
      "кабельное телевидение                        3.333333\n",
      "Name: services, dtype: float64\n",
      "________________________________________\n",
      "address\n",
      "Адмирала Горшкова, 81      3.333333\n",
      "Магнитогорская, 20         3.333333\n",
      "Кирова, 56                 3.333333\n",
      "Никифорова, 18             3.333333\n",
      "Толстого, 28               3.333333\n",
      "Адмирала Фокина, 3         3.333333\n",
      "Гоголя, 33                 3.333333\n",
      "Новожилова, 9              3.333333\n",
      "Прапорщика Комарова, 48    3.333333\n",
      "Днепровская, 5             3.333333\n",
      "Сахалинская, 5             3.333333\n",
      "Леонова, 21                3.333333\n",
      "Нейбута, 12                3.333333\n",
      "Старцева, 57               3.333333\n",
      "Адмирала Юмашева, 14       3.333333\n",
      "Фастовская, 29             3.333333\n",
      "Калинина, 11               3.333333\n",
      "Зои Космодемьянской, 38    3.333333\n",
      "Гоголя, 29                 3.333333\n",
      "Центральная, 5             3.333333\n",
      "Некрасовская, 46           3.333333\n",
      "Жигура, 24                 3.333333\n",
      "Нахимова, 3                3.333333\n",
      "Надибаидзе, 34             3.333333\n",
      "Крыгина, 86                3.333333\n",
      "Мусоргского, 11            3.333333\n",
      "Жигура, 12                 3.333333\n",
      "Черняховского, 3           3.333333\n",
      "Зеленый бульвар, 30        3.333333\n",
      "Майора Филипова, 10        3.333333\n",
      "Name: address, dtype: float64\n",
      "________________________________________\n"
     ]
    }
   ],
   "source": [
    "for i in data.columns:\n",
    "    if (data[i].dtype == 'object') or (data[i].dtype == 'bool'):\n",
    "        print(i)\n",
    "        print(data[i].value_counts(normalize=True)*100)\n",
    "        print('________________________________________')"
   ]
  },
  {
   "cell_type": "code",
   "execution_count": 16,
   "metadata": {},
   "outputs": [],
   "source": [
    "data = data.drop(['mater_window', 'sunny', 'view', 'yard', 'parking', 'domofon', 'iron_door', 'Water_meter','euro', 'young_family', 'transport'], axis=1)"
   ]
  },
  {
   "cell_type": "code",
   "execution_count": 17,
   "metadata": {},
   "outputs": [
    {
     "name": "stdout",
     "output_type": "stream",
     "text": [
      "furniture\n",
      "0    60.0\n",
      "1    40.0\n",
      "Name: furniture, dtype: float64\n",
      "________________________________________\n",
      "technic\n",
      "0    70.0\n",
      "1    30.0\n",
      "Name: technic, dtype: float64\n",
      "________________________________________\n",
      "lift\n",
      "1    66.666667\n",
      "0    33.333333\n",
      "Name: lift, dtype: float64\n",
      "________________________________________\n"
     ]
    }
   ],
   "source": [
    "for i in ['furniture', 'technic', 'lift']:\n",
    "    print(i)\n",
    "    print(data[i].value_counts(normalize=True)*100)\n",
    "    print('________________________________________')"
   ]
  },
  {
   "cell_type": "code",
   "execution_count": 18,
   "metadata": {},
   "outputs": [],
   "source": [
    "data = data.drop('technic', axis=1)"
   ]
  },
  {
   "cell_type": "markdown",
   "metadata": {},
   "source": [
    "### Преобразование переменных <a class=\"anchor\" id=\"5\"></a>"
   ]
  },
  {
   "cell_type": "markdown",
   "metadata": {},
   "source": [
    "Также добавим столбец «region» - название одного из пяти районов Владивостока."
   ]
  },
  {
   "cell_type": "code",
   "execution_count": 19,
   "metadata": {},
   "outputs": [],
   "source": [
    "# Превращаем микрорайоны в районы\n",
    "regions = {'Ленинский': ['64-71-mikrorajjony','nekrasovskaya','centr','tolstogo','lugovaya','tretya-rabochaya','gajjdamak','dalzavod','shilkinskaya', 'sportivnaya', 'avangard','centralnyjj','prospekt-krasoty','sukhanova'],\t\t\n",
    "'Первомайский': ['diomid','churkin','borisenko','tikhaya','vilkova','zmeinka','patrokl','okatovaya','chajjka','shkolnaya'],\t\n",
    "'Первореченский': ['balyaeva','snegovaya-pad','postysheva','bam', 'sabaneeva','zhigura','molodezhnaya','dneprovskaya','snegovaya'],\n",
    "'Советский': ['vtoraya-rechka','prospekt-100-letiya-vladivostoka','varyag','sedanka', 'zarya','vesennyaya','avtovokzal','sovetskijj','sputnik','trudovoe-p','sanatornaya', 'sadgorod','russkaya', 'shamora'],\n",
    "'Фрунзенский': ['russkijj-ostrov','pervaya-rechka','ehgersheld','okeanskaya']}\n",
    "\n",
    "def district(distr):\n",
    "    for region in regions.keys():\n",
    "        if distr in regions[region]:\n",
    "            return region\n",
    "data['region'] = data.districttr.apply(district)\n",
    "region = {'Фрунзенский':0, 'Ленинский':1, 'Советский':2, 'Первореченский':3,\n",
    "       'Первомайский':4}\n",
    "data['regionLabel'] = data.region.map(region)"
   ]
  },
  {
   "cell_type": "code",
   "execution_count": 20,
   "metadata": {},
   "outputs": [],
   "source": [
    "keep = {'design':3, 'cosmetic':2, 'black':0, 'good':2, 'half':1, 'need':1,\n",
    "       'well_black':0}\n",
    "data['keepLabel'] = data['keep'].map(keep)"
   ]
  },
  {
   "cell_type": "code",
   "execution_count": 21,
   "metadata": {},
   "outputs": [],
   "source": [
    "balcon = {'loggia':1, 'no_balcon':0, 'balcon':1, 'more_loggia':2, 'more_balcon':2,\n",
    "       'balcon_loggia':2, 'yes_balcon':1}\n",
    "data['balconLabel'] = data['balcon'].map(balcon)"
   ]
  },
  {
   "cell_type": "code",
   "execution_count": 22,
   "metadata": {},
   "outputs": [],
   "source": [
    "bath = {0:0,1:1,'раздельный':1, 'совмещенный':0, 'раздельная':1}\n",
    "data['bathLabel'] = data['bath'].map(bath)"
   ]
  },
  {
   "cell_type": "code",
   "execution_count": 23,
   "metadata": {},
   "outputs": [],
   "source": [
    "data['mortgage'] = data['mortgage'].astype('int64')\n",
    "data['balcon_glass'] = data.balcon_glass.replace('есть',1).replace('нет',0)\n",
    "data['wate_heating_system'] = data.wate_heating_system.replace('да',1).replace('нет',0)"
   ]
  },
  {
   "cell_type": "code",
   "execution_count": 24,
   "metadata": {},
   "outputs": [],
   "source": [
    "districttrlabel = {'zmeinka':0, 'balyaeva':1, 'centr':2, 'nekrasovskaya':3, 'tolstogo':4,\n",
    "       'snegovaya-pad':5, 'ehgersheld':6, 'barabash-s':7, 'borisenko':8,\n",
    "       'tretya-rabochaya':9, 'churkin':10, 'vesennyaya':11, '64-71-mikrorajjony':12,\n",
    "       'tikhaya':13, 'varyag':14, 'avtovokzal':15, 'diomid':16, 'dneprovskaya':17,\n",
    "       'sedanka':18, 'prospekt-100-letiya-vladivostoka':19}\n",
    "data['districttr_label'] = data.districttr.map(districttrlabel)"
   ]
  },
  {
   "cell_type": "markdown",
   "metadata": {},
   "source": [
    "### Удаление избыточных переменных <a class=\"anchor\" id=\"6\"></a>"
   ]
  },
  {
   "cell_type": "code",
   "execution_count": 25,
   "metadata": {},
   "outputs": [
    {
     "data": {
      "text/plain": [
       "price                                                   7800000\n",
       "rooms                                                         3\n",
       "area                                                       59.4\n",
       "floor                                                         2\n",
       "districttr                                              zmeinka\n",
       "lon                                                  131.895842\n",
       "lat                                                   43.086803\n",
       "flatId                                                  8056913\n",
       "floors_in_house                                               5\n",
       "keep                                                   cosmetic\n",
       "balcon                                               yes_balcon\n",
       "building_year                                            1971.0\n",
       "wall_id                                                      11\n",
       "mortgage                                                      1\n",
       "ceiling_height                                              2.5\n",
       "renovation                                 косметический ремонт\n",
       "bath                                                 раздельный\n",
       "wall_type                                             кирпичные\n",
       "balcon2                                             есть балкон\n",
       "balcon_glass                                                  0\n",
       "lift                                                          0\n",
       "wate_heating_system                                           0\n",
       "furniture                                                     0\n",
       "services               телефон, интернет, кабельное телевидение\n",
       "address                                 Зои Космодемьянской, 38\n",
       "internet                                                      1\n",
       "telephon                                                      1\n",
       "tv                                                            1\n",
       "floors_more_5                                                 0\n",
       "region                                             Первомайский\n",
       "regionLabel                                                 4.0\n",
       "keepLabel                                                     2\n",
       "balconLabel                                                   1\n",
       "bathLabel                                                     1\n",
       "districttr_label                                              0\n",
       "Name: 0, dtype: object"
      ]
     },
     "execution_count": 25,
     "metadata": {},
     "output_type": "execute_result"
    }
   ],
   "source": [
    "data.iloc[0]"
   ]
  },
  {
   "cell_type": "code",
   "execution_count": 26,
   "metadata": {},
   "outputs": [],
   "source": [
    "data = data.drop(['districttr', 'flatId', 'keep', 'balcon', 'renovation', 'bath', 'wall_type', 'balcon2','services','address','region','floors_more_5'], axis=1)"
   ]
  },
  {
   "cell_type": "code",
   "execution_count": 33,
   "metadata": {},
   "outputs": [],
   "source": [
    "# Оставим только непропущенные значения\n",
    "data = data[data.lon.notna()]\n",
    "data = data[data.regionLabel.notna()]"
   ]
  },
  {
   "cell_type": "code",
   "execution_count": 34,
   "metadata": {},
   "outputs": [
    {
     "data": {
      "text/plain": [
       "price                  0\n",
       "lift                   0\n",
       "bathLabel              0\n",
       "balconLabel            0\n",
       "keepLabel              0\n",
       "regionLabel            0\n",
       "tv                     0\n",
       "telephon               0\n",
       "internet               0\n",
       "furniture              0\n",
       "wate_heating_system    0\n",
       "balcon_glass           0\n",
       "rooms                  0\n",
       "ceiling_height         0\n",
       "mortgage               0\n",
       "wall_id                0\n",
       "building_year          0\n",
       "floors_in_house        0\n",
       "lat                    0\n",
       "lon                    0\n",
       "floor                  0\n",
       "area                   0\n",
       "districttr_label       0\n",
       "dtype: int64"
      ]
     },
     "execution_count": 34,
     "metadata": {},
     "output_type": "execute_result"
    }
   ],
   "source": [
    "data.isna().sum().sort_values(ascending=False)"
   ]
  },
  {
   "cell_type": "markdown",
   "metadata": {},
   "source": [
    "Пропущенных значений нет"
   ]
  },
  {
   "cell_type": "markdown",
   "metadata": {},
   "source": [
    "### Избавимся от дубликатов <a class=\"anchor\" id=\"7\"></a>"
   ]
  },
  {
   "cell_type": "code",
   "execution_count": 38,
   "metadata": {},
   "outputs": [],
   "source": [
    "data = data.drop_duplicates()"
   ]
  },
  {
   "cell_type": "markdown",
   "metadata": {},
   "source": [
    "### Создание новой переменной - расстояние до центра города <a class=\"anchor\" id=\"8\"></a>"
   ]
  },
  {
   "cell_type": "markdown",
   "metadata": {},
   "source": [
    "Добавим признак «dist_centr», показывающий расстояние от объекта до центра города (координаты 43.115654, 131.883284). Его найдем с помощью геодезического расстояния. Геодезическое расстояние – это длина кратчайшего пути между двумя точками на любой поверхности Земли. Для этого используем модуль geopy.distance. "
   ]
  },
  {
   "cell_type": "code",
   "execution_count": 35,
   "metadata": {},
   "outputs": [],
   "source": [
    "from geopy.distance import geodesic as GD\n",
    "def dist_centr(x):\n",
    "    centr = (43.115654, 131.883284)\n",
    "    flat = (x['lat'],x['lon'])\n",
    "    return GD(centr, flat).km\n",
    "data['dist_centr'] = data.apply(dist_centr, axis=1)"
   ]
  },
  {
   "cell_type": "markdown",
   "metadata": {},
   "source": [
    "### Обработка выбросов <a class=\"anchor\" id=\"9\"></a>"
   ]
  },
  {
   "cell_type": "markdown",
   "metadata": {},
   "source": [
    "Удалим все объекты, стоимость которых боле 20 000 000 рублей (74 объектов) – элитная недвижимость, для которой требуется индивидуальный анализ, и объекты, стоимость которых менее 2 000 0000 (7 объектов) – комнаты/квартиры без санузла и воды."
   ]
  },
  {
   "cell_type": "code",
   "execution_count": null,
   "metadata": {},
   "outputs": [],
   "source": [
    "data = data[2_000_000<=data['price']<=20_000_000]"
   ]
  },
  {
   "cell_type": "code",
   "execution_count": 37,
   "metadata": {},
   "outputs": [],
   "source": [
    "data.to_excel('data_ready.xlsx')"
   ]
  }
 ],
 "metadata": {
  "kernelspec": {
   "display_name": "Python 3",
   "language": "python",
   "name": "python3"
  },
  "language_info": {
   "codemirror_mode": {
    "name": "ipython",
    "version": 3
   },
   "file_extension": ".py",
   "mimetype": "text/x-python",
   "name": "python",
   "nbconvert_exporter": "python",
   "pygments_lexer": "ipython3",
   "version": "3.8.3"
  }
 },
 "nbformat": 4,
 "nbformat_minor": 4
}
